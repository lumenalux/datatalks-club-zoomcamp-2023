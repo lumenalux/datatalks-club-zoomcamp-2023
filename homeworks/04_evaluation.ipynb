{
  "nbformat": 4,
  "nbformat_minor": 0,
  "metadata": {
    "colab": {
      "provenance": []
    },
    "kernelspec": {
      "name": "python3",
      "display_name": "Python 3"
    },
    "language_info": {
      "name": "python"
    }
  },
  "cells": [
    {
      "cell_type": "markdown",
      "source": [
        "## Data Preparation"
      ],
      "metadata": {
        "id": "5qk3VFj1RZes"
      }
    },
    {
      "cell_type": "code",
      "execution_count": 1,
      "metadata": {
        "id": "pbCuCsCURQoz"
      },
      "outputs": [],
      "source": [
        "import pandas as pd\n",
        "from sklearn.model_selection import train_test_split\n",
        "from sklearn.feature_extraction import DictVectorizer\n",
        "from sklearn.linear_model import LogisticRegression\n",
        "from sklearn.metrics import roc_auc_score, precision_recall_curve, auc\n",
        "import numpy as np\n",
        "import matplotlib.pyplot as plt\n",
        "\n",
        "# Load and preprocess the dataset\n",
        "df = pd.read_csv('https://raw.githubusercontent.com/alexeygrigorev/mlbookcamp-code/master/chapter-02-car-price/data.csv')\n",
        "selected_columns = [\n",
        "    'Make', 'Model', 'Year', 'Engine HP', 'Engine Cylinders',\n",
        "    'Transmission Type', 'Vehicle Style', 'highway MPG', 'city mpg', 'MSRP'\n",
        "]\n",
        "df = df[selected_columns]\n",
        "df.columns = df.columns.str.lower().str.replace(' ', '_')\n",
        "df.fillna(0, inplace=True)\n",
        "df['above_average'] = (df['msrp'] > df['msrp'].mean()).astype(int)\n",
        "\n",
        "# Split the data into train/validation/test sets\n",
        "df_full_train, df_test = train_test_split(df, test_size=0.2, random_state=1)\n",
        "df_train, df_val = train_test_split(df_full_train, test_size=0.25, random_state=1)\n",
        "df_train = df_train.reset_index(drop=True)\n",
        "df_val = df_val.reset_index(drop=True)\n",
        "df_test = df_test.reset_index(drop=True)\n",
        "y_train = df_train['above_average'].values\n",
        "y_val = df_val['above_average'].values\n",
        "y_test = df_test['above_average'].values\n",
        "df_train = df_train.drop(columns=['msrp', 'above_average'])\n",
        "df_val = df_val.drop(columns=['msrp', 'above_average'])\n",
        "df_test = df_test.drop(columns=['msrp', 'above_average'])"
      ]
    },
    {
      "cell_type": "markdown",
      "source": [
        "Question 1: ROC AUC feature importance\n",
        "\n",
        "ROC AUC could also be used to evaluate feature importance of numerical variables.\n",
        "\n",
        "Let's do that\n",
        "\n",
        "* For each numerical variable, use it as score and compute AUC with the `above_average` variable\n",
        "* Use the training dataset for that\n",
        "\n",
        "\n",
        "If your AUC is < 0.5, invert this variable by putting \"-\" in front\n",
        "\n",
        "(e.g. `-df_train['engine_hp']`)\n",
        "\n",
        "AUC can go below 0.5 if the variable is negatively correlated with the target varialble. You can change the direction of the correlation by negating this variable - then negative correlation becomes positive.\n",
        "\n",
        "Which numerical variable (among the following 4) has the highest AUC?\n",
        "\n",
        "- `engine_hp`\n",
        "- `engine_cylinders`\n",
        "- `highway_mpg`\n",
        "- `city_mpg`"
      ],
      "metadata": {
        "id": "cWDkkdaRRopg"
      }
    },
    {
      "cell_type": "code",
      "source": [
        "numerical_vars = ['engine_hp', 'engine_cylinders', 'highway_mpg', 'city_mpg']\n",
        "auc_scores = {}\n",
        "for var in numerical_vars:\n",
        "    score = roc_auc_score(y_train, df_train[var])\n",
        "    if score < 0.5:\n",
        "        score = roc_auc_score(y_train, -df_train[var])\n",
        "    auc_scores[var] = score\n",
        "auc_scores"
      ],
      "metadata": {
        "colab": {
          "base_uri": "https://localhost:8080/"
        },
        "id": "khtQpddbRzi6",
        "outputId": "6b8f6096-4fe9-4d26-a795-d8a299eef7f2"
      },
      "execution_count": 2,
      "outputs": [
        {
          "output_type": "execute_result",
          "data": {
            "text/plain": [
              "{'engine_hp': 0.9171031265539011,\n",
              " 'engine_cylinders': 0.766116490165669,\n",
              " 'highway_mpg': 0.6330587871772013,\n",
              " 'city_mpg': 0.6734244643245233}"
            ]
          },
          "metadata": {},
          "execution_count": 2
        }
      ]
    },
    {
      "cell_type": "markdown",
      "source": [
        "### Question 2: Training the model\n",
        "\n",
        "Apply one-hot-encoding using `DictVectorizer` and train the logistic regression with these parameters:\n",
        "\n",
        "```python\n",
        "**LogisticRegression**(solver='liblinear', C=1.0, max_iter=1000)\n",
        "```\n",
        "\n",
        "What's the AUC of this model on the validation dataset? (round to 3 digits)\n",
        "\n",
        "- 0.678\n",
        "- 0.779\n",
        "- 0.878\n",
        "- 0.979"
      ],
      "metadata": {
        "id": "T0T-FYf1R1hs"
      }
    },
    {
      "cell_type": "code",
      "source": [
        "# Convert train and validation datasets to dictionaries for one-hot encoding\n",
        "train_dicts = df_train.to_dict(orient='records')\n",
        "val_dicts = df_val.to_dict(orient='records')\n",
        "\n",
        "# Apply one-hot encoding using DictVectorizer\n",
        "dv = DictVectorizer(sparse=False)\n",
        "X_train = dv.fit_transform(train_dicts)\n",
        "X_val = dv.transform(val_dicts)\n",
        "\n",
        "# Train a logistic regression model\n",
        "model = LogisticRegression(solver='liblinear', C=1.0, max_iter=1000)\n",
        "model.fit(X_train, y_train)\n",
        "\n",
        "# Get the predicted probabilities for the validation set\n",
        "y_pred = model.predict_proba(X_val)[:, 1]\n",
        "\n",
        "# Calculate the AUC for the validation set\n",
        "auc_val = roc_auc_score(y_val, y_pred)\n",
        "auc_val"
      ],
      "metadata": {
        "colab": {
          "base_uri": "https://localhost:8080/"
        },
        "id": "qPEi_xxQR2XU",
        "outputId": "310e19a5-242d-4337-a4f0-1fba0076a722"
      },
      "execution_count": 3,
      "outputs": [
        {
          "output_type": "execute_result",
          "data": {
            "text/plain": [
              "0.9797482414575607"
            ]
          },
          "metadata": {},
          "execution_count": 3
        }
      ]
    },
    {
      "cell_type": "markdown",
      "source": [
        "### Question 3: Precision and Recall\n",
        "\n",
        "Now let's compute precision and recall for our model.\n",
        "\n",
        "* Evaluate the model on all thresholds from 0.0 to 1.0 with step 0.01\n",
        "* For each threshold, compute precision and recall\n",
        "* Plot them\n",
        "\n",
        "At which threshold precision and recall curves intersect?\n",
        "\n",
        "* 0.28\n",
        "* 0.48\n",
        "* 0.68\n",
        "* 0.88\n"
      ],
      "metadata": {
        "id": "I9w8gaj-R7CW"
      }
    },
    {
      "cell_type": "code",
      "source": [
        "# Compute precision and recall for various thresholds\n",
        "precision, recall, thresholds = precision_recall_curve(y_val, y_pred)\n",
        "\n",
        "# Plot precision and recall\n",
        "plt.figure(figsize=(10, 6))\n",
        "plt.plot(thresholds, precision[:-1], label='Precision', color='blue')\n",
        "plt.plot(thresholds, recall[:-1], label='Recall', color='orange')\n",
        "plt.xlabel('Threshold')\n",
        "plt.ylabel('Value')\n",
        "plt.title('Precision and Recall vs. Threshold')\n",
        "plt.legend()\n",
        "plt.grid(True)\n",
        "plt.show()\n",
        "\n",
        "# Determine the threshold where precision and recall curves intersect\n",
        "intersect_threshold = thresholds[np.argmin(np.abs(precision[:-1] - recall[:-1]))]\n",
        "intersect_threshold\n",
        "\n"
      ],
      "metadata": {
        "colab": {
          "base_uri": "https://localhost:8080/",
          "height": 581
        },
        "id": "kWu_7-ffR8py",
        "outputId": "8e8dacc3-1dad-48e5-cd0a-3cc4ccc42ea0"
      },
      "execution_count": 6,
      "outputs": [
        {
          "output_type": "display_data",
          "data": {
            "text/plain": [
              "<Figure size 1000x600 with 1 Axes>"
            ],
            "image/png": "[encoded data removed]"
          },
          "metadata": {}
        },
        {
          "output_type": "execute_result",
          "data": {
            "text/plain": [
              "0.47661029341251543"
            ]
          },
          "metadata": {},
          "execution_count": 6
        }
      ]
    },
    {
      "cell_type": "markdown",
      "source": [
        "### Question 4: F1 score\n",
        "\n",
        "Precision and recall are conflicting - when one grows, the other goes down. That's why they are often combined into the F1 score - a metrics that takes into account both\n",
        "\n",
        "This is the formula for computing F1:\n",
        "\n",
        "$$F_1 = 2 \\cdot \\cfrac{P \\cdot R}{P + R}$$\n",
        "\n",
        "Where $P$ is precision and $R$ is recall.\n",
        "\n",
        "Let's compute F1 for all thresholds from 0.0 to 1.0 with increment 0.01\n",
        "\n",
        "At which threshold F1 is maximal?\n",
        "\n",
        "- 0.12\n",
        "- 0.32\n",
        "- 0.52\n",
        "- 0.72"
      ],
      "metadata": {
        "id": "-nvQPi-bSBme"
      }
    },
    {
      "cell_type": "code",
      "source": [
        "f1_scores = 2 * (precision[:-1] * recall[:-1]) / (precision[:-1] + recall[:-1])\n",
        "\n",
        "max_f1_threshold = thresholds[np.argmax(f1_scores)]\n",
        "print(f\"Best possible f1 threshold: {max_f1_threshold}\")\n",
        "\n",
        "# Given threshold options for Question 4\n",
        "threshold_options = [0.12, 0.32, 0.52, 0.72]\n",
        "\n",
        "f1_scores_approx = {}\n",
        "for th_option in threshold_options:\n",
        "    closest_threshold = thresholds[np.argmin(np.abs(thresholds - th_option))]\n",
        "    f1_score_closest = f1_scores[np.where(thresholds == closest_threshold)[0][0]]\n",
        "    f1_scores_approx[th_option] = f1_score_closest\n",
        "\n",
        "# Determine the threshold option which gives the highest approximate F1 score\n",
        "best_f1_threshold_approx = max(f1_scores_approx, key=f1_scores_approx.get)\n",
        "best_f1_score = f1_scores_approx[best_f1_threshold_approx]\n",
        "print(f\"Best f1 score with given threshold: {best_f1_score}\")\n",
        "print(f\"Best given f1 threshold: {best_f1_threshold_approx}\")"
      ],
      "metadata": {
        "colab": {
          "base_uri": "https://localhost:8080/"
        },
        "id": "-r1GDQrrSD8q",
        "outputId": "fd6a0072-5889-4687-de59-79f1b82f5355"
      },
      "execution_count": 20,
      "outputs": [
        {
          "output_type": "stream",
          "name": "stdout",
          "text": [
            "Best possible f1 threshold: 0.48782275594830077\n",
            "Best f1 score with given threshold: 0.8845553822152886\n",
            "Best given f1 threshold: 0.52\n"
          ]
        }
      ]
    },
    {
      "cell_type": "markdown",
      "source": [
        "### Question 5: 5-Fold CV\n",
        "\n",
        "\n",
        "Use the `KFold` class from Scikit-Learn to evaluate our model on 5 different folds:\n",
        "\n",
        "```\n",
        "KFold(n_splits=5, shuffle=True, random_state=1)\n",
        "```\n",
        "\n",
        "* Iterate over different folds of `df_full_train`\n",
        "* Split the data into train and validation\n",
        "* Train the model on train with these parameters: `LogisticRegression(solver='liblinear', C=1.0, max_iter=1000)`\n",
        "* Use AUC to evaluate the model on validation\n",
        "\n",
        "How large is standard devidation of the scores across different folds?\n",
        "\n",
        "- 0.003\n",
        "- 0.030\n",
        "- 0.090\n",
        "- 0.140"
      ],
      "metadata": {
        "id": "wQuhQ1QBSEa6"
      }
    },
    {
      "cell_type": "code",
      "source": [
        "# Use 5-Fold cross-validation to evaluate the model\n",
        "from sklearn.model_selection import KFold\n",
        "\n",
        "kfold = KFold(n_splits=5, shuffle=True, random_state=1)\n",
        "auc_scores = []\n",
        "\n",
        "# Convert full train dataset to dictionaries for one-hot encoding\n",
        "full_train_dicts = df_full_train.drop(columns=['msrp', 'above_average']).to_dict(orient='records')\n",
        "X_full_train = dv.transform(full_train_dicts)\n",
        "y_full_train = df_full_train['above_average'].values\n",
        "\n",
        "# Evaluate model on 5 different folds\n",
        "for train_idx, val_idx in kfold.split(X_full_train):\n",
        "    X_train_fold, X_val_fold = X_full_train[train_idx], X_full_train[val_idx]\n",
        "    y_train_fold, y_val_fold = y_full_train[train_idx], y_full_train[val_idx]\n",
        "\n",
        "    model = LogisticRegression(solver='liblinear', C=1.0, max_iter=1000)\n",
        "    model.fit(X_train_fold, y_train_fold)\n",
        "\n",
        "    y_pred_fold = model.predict_proba(X_val_fold)[:, 1]\n",
        "    auc_fold = roc_auc_score(y_val_fold, y_pred_fold)\n",
        "\n",
        "    auc_scores.append(auc_fold)\n",
        "\n",
        "# Compute standard deviation of the scores across different folds\n",
        "std_dev_auc = np.std(auc_scores)\n",
        "round(std_dev_auc, 3)"
      ],
      "metadata": {
        "colab": {
          "base_uri": "https://localhost:8080/"
        },
        "id": "-KPelUfMSGgd",
        "outputId": "51cb943b-126a-4908-b8ed-7b645a28491f"
      },
      "execution_count": 25,
      "outputs": [
        {
          "output_type": "execute_result",
          "data": {
            "text/plain": [
              "0.003"
            ]
          },
          "metadata": {},
          "execution_count": 25
        }
      ]
    },
    {
      "cell_type": "markdown",
      "source": [
        "### Question 6: Hyperparemeter Tuning\n",
        "\n",
        "Now let's use 5-Fold cross-validation to find the best parameter `C`\n",
        "\n",
        "* Iterate over the following `C` values: `[0.01, 0.1, 0.5, 10]`\n",
        "* Initialize `KFold` with the same parameters as previously\n",
        "* Use these parametes for the model: `LogisticRegression(solver='liblinear', C=C, max_iter=1000)`\n",
        "* Compute the mean score as well as the std (round the mean and std to 3 decimal digits)\n",
        "\n",
        "Which `C` leads to the best mean score?\n",
        "\n",
        "- 0.01\n",
        "- 0.1\n",
        "- 0.5\n",
        "- 10\n",
        "\n",
        "If you have ties, select the score with the lowest std. If you still have ties, select the smallest `C`."
      ],
      "metadata": {
        "id": "Loq9YM8pSHwM"
      }
    },
    {
      "cell_type": "code",
      "source": [
        "# List of C values to iterate over\n",
        "C_values = [0.01, 0.1, 0.5, 10]\n",
        "\n",
        "# Dictionary to store mean and std of AUC scores for each C\n",
        "scores_for_C = {}\n",
        "\n",
        "# Use 5-Fold cross-validation for each value of C\n",
        "for C in C_values:\n",
        "    auc_scores_c = []\n",
        "\n",
        "    # Evaluate model on 5 different folds for the current C value\n",
        "    for train_idx, val_idx in kfold.split(X_full_train):\n",
        "        X_train_fold, X_val_fold = X_full_train[train_idx], X_full_train[val_idx]\n",
        "        y_train_fold, y_val_fold = y_full_train[train_idx], y_full_train[val_idx]\n",
        "\n",
        "        model = LogisticRegression(solver='liblinear', C=C, max_iter=1000)\n",
        "        model.fit(X_train_fold, y_train_fold)\n",
        "\n",
        "        y_pred_fold = model.predict_proba(X_val_fold)[:, 1]\n",
        "        auc_fold = roc_auc_score(y_val_fold, y_pred_fold)\n",
        "\n",
        "        auc_scores_c.append(auc_fold)\n",
        "\n",
        "    # Compute mean and standard deviation of AUC scores for the current C value\n",
        "    mean_auc_c = np.mean(auc_scores_c)\n",
        "    std_auc_c = np.std(auc_scores_c)\n",
        "\n",
        "    scores_for_C[C] = (mean_auc_c, std_auc_c)\n",
        "\n",
        "# Find the best C value based on the mean AUC scores\n",
        "best_C = max(scores_for_C, key=lambda k: scores_for_C[k][0])\n",
        "print(scores_for_C[best_C])\n",
        "best_C"
      ],
      "metadata": {
        "colab": {
          "base_uri": "https://localhost:8080/"
        },
        "id": "B7IdBWVwSKry",
        "outputId": "fe51820d-de92-4de3-8d2c-1c2907363ab7"
      },
      "execution_count": 28,
      "outputs": [
        {
          "output_type": "stream",
          "name": "stdout",
          "text": [
            "(0.9808963219734256, 0.0023857679028159136)\n"
          ]
        },
        {
          "output_type": "execute_result",
          "data": {
            "text/plain": [
              "10"
            ]
          },
          "metadata": {},
          "execution_count": 28
        }
      ]
    },
    {
      "cell_type": "markdown",
      "source": [
        "### Submit the results\n",
        "\n",
        "- Submit your results here: https://forms.gle/E7Fa3WuBw3HkPQYg6\n",
        "- If your answer doesn't match options exactly, select the closest one.\n",
        "- You can submit your solution multiple times. In this case, only the last submission will be used"
      ],
      "metadata": {
        "id": "dkKrXAx4SLQe"
      }
    }
  ]
}