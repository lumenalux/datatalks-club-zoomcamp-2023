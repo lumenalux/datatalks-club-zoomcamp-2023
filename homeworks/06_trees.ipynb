{
  "nbformat": 4,
  "nbformat_minor": 0,
  "metadata": {
    "colab": {
      "provenance": []
    },
    "kernelspec": {
      "name": "python3",
      "display_name": "Python 3"
    },
    "language_info": {
      "name": "python"
    }
  },
  "cells": [
    {
      "cell_type": "markdown",
      "source": [
        "### Dataset\n",
        "\n",
        "In this homework, we will use the California Housing Prices from [Kaggle](https://www.kaggle.com/datasets/camnugent/california-housing-prices).\n",
        "\n",
        "Here's a wget-able [link](https://raw.githubusercontent.com/alexeygrigorev/datasets/master/housing.csv):\n",
        "\n",
        "```bash\n",
        "wget https://raw.githubusercontent.com/alexeygrigorev/datasets/master/housing.csv\n",
        "```\n",
        "\n",
        "The goal of this homework is to create a regression model for predicting housing prices (column `'median_house_value'`).\n",
        "\n",
        "\n",
        "### Preparing the dataset\n",
        "\n",
        "For this homework, we only want to use a subset of data. This is the same subset we used in homework #2.\n",
        "But in contrast to homework #2, we are going to use all columns of the dataset.\n",
        "\n",
        "First, keep only the records where `ocean_proximity` is either `'<1H OCEAN'` or `'INLAND'`\n",
        "\n",
        "Preparation:\n",
        "\n",
        "* Fill missing values with zeros.\n",
        "* Apply the log transform to `median_house_value`.\n",
        "* Do train/validation/test split with 60%/20%/20% distribution.\n",
        "* Use the `train_test_split` function and set the `random_state` parameter to 1.\n",
        "* Use `DictVectorizer(sparse=True)` to turn the dataframes into matrices.\n",
        "\n",
        "\n",
        "## Question 1\n",
        "\n",
        "Let's train a decision tree regressor to predict the `median_house_value` variable.\n",
        "\n",
        "* Train a model with `max_depth=1`.\n",
        "\n",
        "\n",
        "Which feature is used for splitting the data?\n",
        "\n",
        "* `ocean_proximity`\n",
        "* `total_rooms`\n",
        "* `latitude`\n",
        "* `population`"
      ],
      "metadata": {
        "id": "JhB4Exwp4gHi"
      }
    },
    {
      "cell_type": "code",
      "execution_count": 2,
      "metadata": {
        "colab": {
          "base_uri": "https://localhost:8080/",
          "height": 36
        },
        "id": "nZ-B4bO24dGo",
        "outputId": "4a4c65d3-9967-402d-e369-ad58e55d98e9"
      },
      "outputs": [
        {
          "output_type": "execute_result",
          "data": {
            "text/plain": [
              "'|--- ocean_proximity=<1H OCEAN <= 0.50\\n|   |--- value: [11.61]\\n|--- ocean_proximity=<1H OCEAN >  0.50\\n|   |--- value: [12.30]\\n'"
            ],
            "application/vnd.google.colaboratory.intrinsic+json": {
              "type": "string"
            }
          },
          "metadata": {},
          "execution_count": 2
        }
      ],
      "source": [
        "import pandas as pd\n",
        "import numpy as np\n",
        "from sklearn.model_selection import train_test_split\n",
        "from sklearn.feature_extraction import DictVectorizer\n",
        "from sklearn.tree import DecisionTreeRegressor\n",
        "from sklearn.tree import export_text\n",
        "\n",
        "data_path = 'https://raw.githubusercontent.com/alexeygrigorev/datasets/master/housing.csv'\n",
        "housing_data = pd.read_csv(data_path)\n",
        "\n",
        "# Preprocess the data\n",
        "# 1. Keep only the records where `ocean_proximity` is either `'<1H OCEAN'` or `'INLAND'`\n",
        "filtered_data = housing_data[housing_data['ocean_proximity'].isin(['<1H OCEAN', 'INLAND'])]\n",
        "\n",
        "# 2. Fill missing values with zeros\n",
        "filled_data = filtered_data.fillna(0)\n",
        "\n",
        "# 3. Apply the log transform to `median_house_value`\n",
        "filled_data['median_house_value'] = np.log1p(filled_data['median_house_value'])\n",
        "\n",
        "# 4. Do train/validation/test split with 60%/20%/20% distribution, setting random_state to 1\n",
        "X = filled_data.drop('median_house_value', axis=1)\n",
        "y = filled_data['median_house_value']\n",
        "X_train_full, X_test, y_train_full, y_test = train_test_split(X, y, test_size=0.2, random_state=1)\n",
        "X_train, X_val, y_train, y_val = train_test_split(X_train_full, y_train_full, test_size=0.25, random_state=1)\n",
        "\n",
        "# 5. Use `DictVectorizer(sparse=True)` to turn the dataframes into matrices\n",
        "dv = DictVectorizer(sparse=True)\n",
        "X_train_dict = X_train.to_dict(orient='records')\n",
        "X_val_dict = X_val.to_dict(orient='records')\n",
        "X_test_dict = X_test.to_dict(orient='records')\n",
        "X_train_vect = dv.fit_transform(X_train_dict)\n",
        "X_val_vect = dv.transform(X_val_dict)\n",
        "X_test_vect = dv.transform(X_test_dict)\n",
        "\n",
        "dt_regressor = DecisionTreeRegressor(max_depth=1, random_state=1)\n",
        "dt_regressor.fit(X_train_vect, y_train)\n",
        "\n",
        "tree_rules = export_text(dt_regressor, feature_names=list(dv.get_feature_names_out()))\n",
        "tree_rules"
      ]
    },
    {
      "cell_type": "markdown",
      "source": [
        "## Question 2\n",
        "\n",
        "Train a random forest model with these parameters:\n",
        "\n",
        "* `n_estimators=10`\n",
        "* `random_state=1`\n",
        "* `n_jobs=-1` (optional - to make training faster)\n",
        "\n",
        "\n",
        "What's the RMSE of this model on validation?\n",
        "\n",
        "* 0.045\n",
        "* 0.245\n",
        "* 0.545\n",
        "* 0.845"
      ],
      "metadata": {
        "id": "0qwjQtBC5AoY"
      }
    },
    {
      "cell_type": "code",
      "source": [
        "from sklearn.ensemble import RandomForestRegressor\n",
        "from sklearn.metrics import mean_squared_error\n",
        "\n",
        "# Training a random forest model with specified parameters\n",
        "rf_regressor = RandomForestRegressor(n_estimators=10, random_state=1, n_jobs=-1)\n",
        "rf_regressor.fit(X_train_vect, y_train)\n",
        "\n",
        "# Predicting on the validation set\n",
        "y_pred = rf_regressor.predict(X_val_vect)\n",
        "\n",
        "# Calculating RMSE on the validation set\n",
        "rmse = np.sqrt(mean_squared_error(y_val, y_pred))\n",
        "rmse"
      ],
      "metadata": {
        "colab": {
          "base_uri": "https://localhost:8080/"
        },
        "id": "ZGupZqg05Cp3",
        "outputId": "1d83a9d8-922a-4e17-cc2d-d8644c617770"
      },
      "execution_count": 3,
      "outputs": [
        {
          "output_type": "execute_result",
          "data": {
            "text/plain": [
              "0.24495290030597153"
            ]
          },
          "metadata": {},
          "execution_count": 3
        }
      ]
    },
    {
      "cell_type": "markdown",
      "source": [
        "## Question 3\n",
        "\n",
        "Now let's experiment with the `n_estimators` parameter\n",
        "\n",
        "* Try different values of this parameter from 10 to 200 with step 10.\n",
        "* Set `random_state` to `1`.\n",
        "* Evaluate the model on the validation dataset.\n",
        "\n",
        "\n",
        "After which value of `n_estimators` does RMSE stop improving?\n",
        "Consider 3 decimal places for retrieving the answer.\n",
        "\n",
        "- 10\n",
        "- 25\n",
        "- 50\n",
        "- 160"
      ],
      "metadata": {
        "id": "vr_NMoR95Dem"
      }
    },
    {
      "cell_type": "code",
      "source": [
        "# Trying different values of n_estimators from 10 to 200 with step 10, and evaluating the model on the validation dataset\n",
        "n_estimators_range = range(10, 201, 10)\n",
        "rmse_scores = []\n",
        "\n",
        "for n_estimators in n_estimators_range:\n",
        "    rf_regressor = RandomForestRegressor(n_estimators=n_estimators, random_state=1, n_jobs=-1)\n",
        "    rf_regressor.fit(X_train_vect, y_train)\n",
        "    y_pred = rf_regressor.predict(X_val_vect)\n",
        "    rmse = np.sqrt(mean_squared_error(y_val, y_pred))\n",
        "    rmse_scores.append((n_estimators, rmse))\n",
        "    print(f\"Number of estimators: {n_estimators}, RMSE: {rmse}\")\n",
        "\n",
        "# Displaying RMSE scores for different values of n_estimators\n",
        "rmse_scores"
      ],
      "metadata": {
        "colab": {
          "base_uri": "https://localhost:8080/"
        },
        "id": "3pbf-_M_5F6y",
        "outputId": "516ce13c-970d-43ba-b2ff-c38bb96d4108"
      },
      "execution_count": 5,
      "outputs": [
        {
          "output_type": "stream",
          "name": "stdout",
          "text": [
            "Number of estimators: 10, RMSE: 0.24495290030597153\n",
            "Number of estimators: 20, RMSE: 0.23833358987366798\n",
            "Number of estimators: 30, RMSE: 0.23650402956159838\n",
            "Number of estimators: 40, RMSE: 0.23509490973460043\n",
            "Number of estimators: 50, RMSE: 0.23475019819586204\n",
            "Number of estimators: 60, RMSE: 0.2345062010902977\n",
            "Number of estimators: 70, RMSE: 0.23440154550608353\n",
            "Number of estimators: 80, RMSE: 0.23457219159286974\n",
            "Number of estimators: 90, RMSE: 0.23447044062017394\n",
            "Number of estimators: 100, RMSE: 0.23428380626857082\n",
            "Number of estimators: 110, RMSE: 0.23421064634979388\n",
            "Number of estimators: 120, RMSE: 0.234022293955548\n",
            "Number of estimators: 130, RMSE: 0.2338243957678853\n",
            "Number of estimators: 140, RMSE: 0.23366366433540584\n",
            "Number of estimators: 150, RMSE: 0.23354802078200423\n",
            "Number of estimators: 160, RMSE: 0.23342267954173773\n",
            "Number of estimators: 170, RMSE: 0.23338695822923\n",
            "Number of estimators: 180, RMSE: 0.23356148302077012\n",
            "Number of estimators: 190, RMSE: 0.23380601278831945\n",
            "Number of estimators: 200, RMSE: 0.23370275895578774\n"
          ]
        },
        {
          "output_type": "execute_result",
          "data": {
            "text/plain": [
              "[(10, 0.24495290030597153),\n",
              " (20, 0.23833358987366798),\n",
              " (30, 0.23650402956159838),\n",
              " (40, 0.23509490973460043),\n",
              " (50, 0.23475019819586204),\n",
              " (60, 0.2345062010902977),\n",
              " (70, 0.23440154550608353),\n",
              " (80, 0.23457219159286974),\n",
              " (90, 0.23447044062017394),\n",
              " (100, 0.23428380626857082),\n",
              " (110, 0.23421064634979388),\n",
              " (120, 0.234022293955548),\n",
              " (130, 0.2338243957678853),\n",
              " (140, 0.23366366433540584),\n",
              " (150, 0.23354802078200423),\n",
              " (160, 0.23342267954173773),\n",
              " (170, 0.23338695822923),\n",
              " (180, 0.23356148302077012),\n",
              " (190, 0.23380601278831945),\n",
              " (200, 0.23370275895578774)]"
            ]
          },
          "metadata": {},
          "execution_count": 5
        }
      ]
    },
    {
      "cell_type": "code",
      "source": [
        "print(min(rmse_scores, key=lambda tup: tup[1]))"
      ],
      "metadata": {
        "colab": {
          "base_uri": "https://localhost:8080/"
        },
        "id": "LF_FUc1Z936-",
        "outputId": "32047ad2-e9ff-4049-a52d-a515dc20778b"
      },
      "execution_count": 7,
      "outputs": [
        {
          "output_type": "stream",
          "name": "stdout",
          "text": [
            "(170, 0.23338695822923)\n"
          ]
        }
      ]
    },
    {
      "cell_type": "markdown",
      "source": [
        "## Question 4\n",
        "\n",
        "Let's select the best `max_depth`:\n",
        "\n",
        "* Try different values of `max_depth`: `[10, 15, 20, 25]`\n",
        "* For each of these values,\n",
        "  * try different values of `n_estimators` from 10 till 200 (with step 10)\n",
        "  * calculate the mean RMSE\n",
        "* Fix the random seed: `random_state=1`\n",
        "\n",
        "\n",
        "What's the best `max_depth`, using the mean RMSE?\n",
        "\n",
        "* 10\n",
        "* 15\n",
        "* 20\n",
        "* 25"
      ],
      "metadata": {
        "id": "j3ylS2df5HWX"
      }
    },
    {
      "cell_type": "code",
      "source": [
        "from sklearn.ensemble import RandomForestRegressor\n",
        "from sklearn.metrics import mean_squared_error\n",
        "import numpy as np\n",
        "\n",
        "max_depth_values = [10, 15, 20, 25]\n",
        "n_estimators_range = range(10, 201, 10)\n",
        "mean_rmse_scores = {}\n",
        "\n",
        "for max_depth in max_depth_values:\n",
        "    print(f\"\"\"##########\n",
        "Max depth: {max_depth}\"\"\")\n",
        "    rmse_scores = []\n",
        "    for n_estimators in n_estimators_range:\n",
        "        rf_regressor = RandomForestRegressor(n_estimators=n_estimators, max_depth=max_depth, random_state=1, n_jobs=-1)\n",
        "        rf_regressor.fit(X_train_vect, y_train)\n",
        "        y_pred = rf_regressor.predict(X_val_vect)\n",
        "        rmse = np.sqrt(mean_squared_error(y_val, y_pred))\n",
        "        print(f\"Number of estimators: {n_estimators}, RMSE: {rmse}\")\n",
        "        rmse_scores.append(rmse)\n",
        "    mean_rmse_scores[max_depth] = np.mean(rmse_scores)\n",
        "\n",
        "# Finding the max_depth with the lowest mean RMSE\n",
        "best_max_depth, best_mean_rmse = min(mean_rmse_scores.items(), key=lambda x: x[1])\n",
        "print(\"Best max_depth:\", best_max_depth, \"with mean RMSE:\", best_mean_rmse)"
      ],
      "metadata": {
        "colab": {
          "base_uri": "https://localhost:8080/"
        },
        "id": "XXki0qDz5Iox",
        "outputId": "254f4520-dca8-4e67-e98e-16086e9eb0cf"
      },
      "execution_count": 12,
      "outputs": [
        {
          "output_type": "stream",
          "name": "stdout",
          "text": [
            "##########\n",
            "Max depth: 10\n",
            "Number of estimators: 10, RMSE: 0.250682176668064\n",
            "Number of estimators: 20, RMSE: 0.24745502781785716\n",
            "Number of estimators: 30, RMSE: 0.24626379186617842\n",
            "Number of estimators: 40, RMSE: 0.24502936288687294\n",
            "Number of estimators: 50, RMSE: 0.24543003121441526\n",
            "Number of estimators: 60, RMSE: 0.24522113262934925\n",
            "Number of estimators: 70, RMSE: 0.24528983725642312\n",
            "Number of estimators: 80, RMSE: 0.24553630580063834\n",
            "Number of estimators: 90, RMSE: 0.24545212921717774\n",
            "Number of estimators: 100, RMSE: 0.2453700257720694\n",
            "Number of estimators: 110, RMSE: 0.24526239970363065\n",
            "Number of estimators: 120, RMSE: 0.24505304321886626\n",
            "Number of estimators: 130, RMSE: 0.24478991812503073\n",
            "Number of estimators: 140, RMSE: 0.24457214573772543\n",
            "Number of estimators: 150, RMSE: 0.2445535109898143\n",
            "Number of estimators: 160, RMSE: 0.24445890373792142\n",
            "Number of estimators: 170, RMSE: 0.24441806155085397\n",
            "Number of estimators: 180, RMSE: 0.2445233168833414\n",
            "Number of estimators: 190, RMSE: 0.24471986806235066\n",
            "Number of estimators: 200, RMSE: 0.24472926841080211\n",
            "##########\n",
            "Max depth: 15\n",
            "Number of estimators: 10, RMSE: 0.24572727111119222\n",
            "Number of estimators: 20, RMSE: 0.2395288101057743\n",
            "Number of estimators: 30, RMSE: 0.2378130659762502\n",
            "Number of estimators: 40, RMSE: 0.23590339688070872\n",
            "Number of estimators: 50, RMSE: 0.23592951814284155\n",
            "Number of estimators: 60, RMSE: 0.23562429473516247\n",
            "Number of estimators: 70, RMSE: 0.23553884761931704\n",
            "Number of estimators: 80, RMSE: 0.23576778542263774\n",
            "Number of estimators: 90, RMSE: 0.23544891559649936\n",
            "Number of estimators: 100, RMSE: 0.23532549754233711\n",
            "Number of estimators: 110, RMSE: 0.23515318858811743\n",
            "Number of estimators: 120, RMSE: 0.23492912233163657\n",
            "Number of estimators: 130, RMSE: 0.23478844627126158\n",
            "Number of estimators: 140, RMSE: 0.23460043326277036\n",
            "Number of estimators: 150, RMSE: 0.2344773363894726\n",
            "Number of estimators: 160, RMSE: 0.23429697790937257\n",
            "Number of estimators: 170, RMSE: 0.23427133014925056\n",
            "Number of estimators: 180, RMSE: 0.2344503729476413\n",
            "Number of estimators: 190, RMSE: 0.2346721435289138\n",
            "Number of estimators: 200, RMSE: 0.23451511017717172\n",
            "##########\n",
            "Max depth: 20\n",
            "Number of estimators: 10, RMSE: 0.24531287899896315\n",
            "Number of estimators: 20, RMSE: 0.23898344555789586\n",
            "Number of estimators: 30, RMSE: 0.23711442098312288\n",
            "Number of estimators: 40, RMSE: 0.23552346074295835\n",
            "Number of estimators: 50, RMSE: 0.23513350391123777\n",
            "Number of estimators: 60, RMSE: 0.23479414531063245\n",
            "Number of estimators: 70, RMSE: 0.23470290796062349\n",
            "Number of estimators: 80, RMSE: 0.2349068612477833\n",
            "Number of estimators: 90, RMSE: 0.23480574623144365\n",
            "Number of estimators: 100, RMSE: 0.2345585041997177\n",
            "Number of estimators: 110, RMSE: 0.23442808364860004\n",
            "Number of estimators: 120, RMSE: 0.23419399386460216\n",
            "Number of estimators: 130, RMSE: 0.23401671099027274\n",
            "Number of estimators: 140, RMSE: 0.23385067523574335\n",
            "Number of estimators: 150, RMSE: 0.2338142708322251\n",
            "Number of estimators: 160, RMSE: 0.23372902948230967\n",
            "Number of estimators: 170, RMSE: 0.2337387989922186\n",
            "Number of estimators: 180, RMSE: 0.23394370126812306\n",
            "Number of estimators: 190, RMSE: 0.23417599087731844\n",
            "Number of estimators: 200, RMSE: 0.23394661830015237\n",
            "##########\n",
            "Max depth: 25\n",
            "Number of estimators: 10, RMSE: 0.2450798810031633\n",
            "Number of estimators: 20, RMSE: 0.23866342677481667\n",
            "Number of estimators: 30, RMSE: 0.23645242647459608\n",
            "Number of estimators: 40, RMSE: 0.2349366919357812\n",
            "Number of estimators: 50, RMSE: 0.23458721158064522\n",
            "Number of estimators: 60, RMSE: 0.2342598860974574\n",
            "Number of estimators: 70, RMSE: 0.23413746187478424\n",
            "Number of estimators: 80, RMSE: 0.23429746854023703\n",
            "Number of estimators: 90, RMSE: 0.23429664509340223\n",
            "Number of estimators: 100, RMSE: 0.23424861767332997\n",
            "Number of estimators: 110, RMSE: 0.23413360881045\n",
            "Number of estimators: 120, RMSE: 0.23394728395544928\n",
            "Number of estimators: 130, RMSE: 0.23384932947546674\n",
            "Number of estimators: 140, RMSE: 0.23363507686871524\n",
            "Number of estimators: 150, RMSE: 0.23353540960621108\n",
            "Number of estimators: 160, RMSE: 0.23339501807887206\n",
            "Number of estimators: 170, RMSE: 0.23339048237694404\n",
            "Number of estimators: 180, RMSE: 0.23357170736454838\n",
            "Number of estimators: 190, RMSE: 0.23381071650867893\n",
            "Number of estimators: 200, RMSE: 0.2336943883523131\n",
            "Best max_depth: 25 with mean RMSE: 0.2348961369222931\n"
          ]
        }
      ]
    },
    {
      "cell_type": "markdown",
      "source": [
        "## Question 5\n",
        "\n",
        "We can extract feature importance information from tree-based models.\n",
        "\n",
        "At each step of the decision tree learning algorithm, it finds the best split.\n",
        "When doing it, we can calculate \"gain\" - the reduction in impurity before and after the split.\n",
        "This gain is quite useful in understanding what are the important features for tree-based models.\n",
        "\n",
        "In Scikit-Learn, tree-based models contain this information in the\n",
        "[`feature_importances_`](https://scikit-learn.org/stable/modules/generated/sklearn.ensemble.RandomForestRegressor.html#sklearn.ensemble.RandomForestRegressor.feature_importances_)\n",
        "field.\n",
        "\n",
        "For this homework question, we'll find the most important feature:\n",
        "\n",
        "* Train the model with these parameters:\n",
        "  * `n_estimators=10`,\n",
        "  * `max_depth=20`,\n",
        "  * `random_state=1`,\n",
        "  * `n_jobs=-1` (optional)\n",
        "* Get the feature importance information from this model\n",
        "\n",
        "\n",
        "What's the most important feature (among these 4)?\n",
        "\n",
        "* `total_rooms`\n",
        "* `median_income`\n",
        "* `total_bedrooms`\n",
        "* `longitude`\n"
      ],
      "metadata": {
        "id": "TdfFT-Lo5JMt"
      }
    },
    {
      "cell_type": "code",
      "source": [
        "rf_regressor = RandomForestRegressor(n_estimators=10, max_depth=20, random_state=1, n_jobs=-1)\n",
        "rf_regressor.fit(X_train_vect, y_train)\n",
        "\n",
        "# Getting feature importance information from the model\n",
        "feature_importances = rf_regressor.feature_importances_\n",
        "features = dv.get_feature_names_out()\n",
        "\n",
        "# Creating a dictionary to map feature names to their importance scores\n",
        "feature_importance_dict = dict(zip(features, feature_importances))\n",
        "\n",
        "# Finding the most important feature among the specified ones\n",
        "specified_features = ['total_rooms', 'median_income', 'total_bedrooms', 'longitude']\n",
        "most_important_feature = max(specified_features, key=lambda x: feature_importance_dict[x])\n",
        "print(\"Most important feature:\", most_important_feature)"
      ],
      "metadata": {
        "colab": {
          "base_uri": "https://localhost:8080/"
        },
        "id": "rs3ZpSj45NSU",
        "outputId": "16fe53d5-85fa-41a8-de38-6ff3f8962eac"
      },
      "execution_count": 13,
      "outputs": [
        {
          "output_type": "stream",
          "name": "stdout",
          "text": [
            "Most important feature: median_income\n"
          ]
        }
      ]
    },
    {
      "cell_type": "markdown",
      "source": [
        "## Question 6\n",
        "\n",
        "Now let's train an XGBoost model! For this question, we'll tune the `eta` parameter:\n",
        "\n",
        "* Install XGBoost\n",
        "* Create DMatrix for train and validation\n",
        "* Create a watchlist\n",
        "* Train a model with these parameters for 100 rounds:\n",
        "\n",
        "```\n",
        "xgb_params = {\n",
        "    'eta': 0.3,\n",
        "    'max_depth': 6,\n",
        "    'min_child_weight': 1,\n",
        "    \n",
        "    'objective': 'reg:squarederror',\n",
        "    'nthread': 8,\n",
        "    \n",
        "    'seed': 1,\n",
        "    'verbosity': 1,\n",
        "}\n",
        "```\n",
        "\n",
        "Now change `eta` from `0.3` to `0.1`.\n",
        "\n",
        "Which eta leads to the best RMSE score on the validation dataset?\n",
        "\n",
        "* 0.3\n",
        "* 0.1\n",
        "* Both give equal value"
      ],
      "metadata": {
        "id": "hnGsTtYI5PfZ"
      }
    },
    {
      "cell_type": "code",
      "source": [
        "!pip install xgboost"
      ],
      "metadata": {
        "colab": {
          "base_uri": "https://localhost:8080/"
        },
        "id": "pWu7ztPW5TQT",
        "outputId": "d5c7cbf7-43f5-477c-ad89-7f683f367bf3"
      },
      "execution_count": 14,
      "outputs": [
        {
          "output_type": "stream",
          "name": "stdout",
          "text": [
            "Requirement already satisfied: xgboost in /usr/local/lib/python3.10/dist-packages (2.0.0)\n",
            "Requirement already satisfied: numpy in /usr/local/lib/python3.10/dist-packages (from xgboost) (1.23.5)\n",
            "Requirement already satisfied: scipy in /usr/local/lib/python3.10/dist-packages (from xgboost) (1.11.3)\n"
          ]
        }
      ]
    },
    {
      "cell_type": "code",
      "source": [
        "import xgboost as xgb\n",
        "\n",
        "dtrain = xgb.DMatrix(X_train_vect, label=y_train)\n",
        "dval = xgb.DMatrix(X_val_vect, label=y_val)\n",
        "\n",
        "watchlist = [(dtrain, 'train'), (dval, 'val')]\n",
        "\n",
        "xgb_params = {\n",
        "    'eta': 0.3,\n",
        "    'max_depth': 6,\n",
        "    'min_child_weight': 1,\n",
        "    'objective': 'reg:squarederror',\n",
        "    'nthread': 8,\n",
        "    'seed': 1,\n",
        "    'verbosity': 1,\n",
        "}\n",
        "\n",
        "model = xgb.train(xgb_params, dtrain, num_boost_round=100, evals=watchlist, verbose_eval=5)"
      ],
      "metadata": {
        "colab": {
          "base_uri": "https://localhost:8080/"
        },
        "id": "WtpxCmzR8h_i",
        "outputId": "8b384192-e612-4f1e-e500-4e740fa06f4e"
      },
      "execution_count": 15,
      "outputs": [
        {
          "output_type": "stream",
          "name": "stdout",
          "text": [
            "[0]\ttrain-rmse:0.44350\tval-rmse:0.44250\n",
            "[5]\ttrain-rmse:0.25338\tval-rmse:0.27463\n",
            "[10]\ttrain-rmse:0.21444\tval-rmse:0.25179\n",
            "[15]\ttrain-rmse:0.19858\tval-rmse:0.24522\n",
            "[20]\ttrain-rmse:0.18524\tval-rmse:0.23978\n",
            "[25]\ttrain-rmse:0.17757\tval-rmse:0.23830\n",
            "[30]\ttrain-rmse:0.16888\tval-rmse:0.23570\n",
            "[35]\ttrain-rmse:0.16113\tval-rmse:0.23416\n",
            "[40]\ttrain-rmse:0.15542\tval-rmse:0.23318\n",
            "[45]\ttrain-rmse:0.14941\tval-rmse:0.23190\n",
            "[50]\ttrain-rmse:0.14536\tval-rmse:0.23225\n",
            "[55]\ttrain-rmse:0.14150\tval-rmse:0.23197\n",
            "[60]\ttrain-rmse:0.13719\tval-rmse:0.23139\n",
            "[65]\ttrain-rmse:0.13259\tval-rmse:0.23158\n",
            "[70]\ttrain-rmse:0.12943\tval-rmse:0.23068\n",
            "[75]\ttrain-rmse:0.12555\tval-rmse:0.23039\n",
            "[80]\ttrain-rmse:0.12192\tval-rmse:0.22886\n",
            "[85]\ttrain-rmse:0.11854\tval-rmse:0.22888\n",
            "[90]\ttrain-rmse:0.11496\tval-rmse:0.22861\n",
            "[95]\ttrain-rmse:0.11211\tval-rmse:0.22908\n",
            "[99]\ttrain-rmse:0.10989\tval-rmse:0.22862\n"
          ]
        }
      ]
    },
    {
      "cell_type": "code",
      "source": [
        "y_pred = model.predict(dval)\n",
        "rmse_eta_03 = np.sqrt(mean_squared_error(y_val, y_pred))\n",
        "print('RMSE with eta=0.3:', rmse_eta_03)"
      ],
      "metadata": {
        "colab": {
          "base_uri": "https://localhost:8080/"
        },
        "id": "jAKSniZr86ht",
        "outputId": "ea89e1b0-b290-4c04-f273-9b086dbbdd22"
      },
      "execution_count": 16,
      "outputs": [
        {
          "output_type": "stream",
          "name": "stdout",
          "text": [
            "RMSE with eta=0.3: 0.228623199980106\n"
          ]
        }
      ]
    },
    {
      "cell_type": "code",
      "source": [
        "xgb_params['eta'] = 0.1\n",
        "\n",
        "model = xgb.train(xgb_params, dtrain, num_boost_round=100, evals=watchlist, verbose_eval=5)\n",
        "y_pred = model.predict(dval)\n",
        "rmse_eta_01 = np.sqrt(mean_squared_error(y_val, y_pred))\n",
        "print('RMSE with eta=0.1:', rmse_eta_01)"
      ],
      "metadata": {
        "colab": {
          "base_uri": "https://localhost:8080/"
        },
        "id": "5MJ1Utnk9Bfi",
        "outputId": "34326f48-2d55-4c75-f19b-7f1385ee8be0"
      },
      "execution_count": 17,
      "outputs": [
        {
          "output_type": "stream",
          "name": "stdout",
          "text": [
            "[0]\ttrain-rmse:0.52449\tval-rmse:0.52045\n",
            "[5]\ttrain-rmse:0.37822\tval-rmse:0.38151\n",
            "[10]\ttrain-rmse:0.30326\tval-rmse:0.31427\n",
            "[15]\ttrain-rmse:0.26538\tval-rmse:0.28380\n",
            "[20]\ttrain-rmse:0.24512\tval-rmse:0.26882\n",
            "[25]\ttrain-rmse:0.23026\tval-rmse:0.25997\n",
            "[30]\ttrain-rmse:0.21887\tval-rmse:0.25266\n",
            "[35]\ttrain-rmse:0.21020\tval-rmse:0.24826\n",
            "[40]\ttrain-rmse:0.20392\tval-rmse:0.24539\n",
            "[45]\ttrain-rmse:0.19814\tval-rmse:0.24293\n",
            "[50]\ttrain-rmse:0.19215\tval-rmse:0.24020\n",
            "[55]\ttrain-rmse:0.18809\tval-rmse:0.23878\n",
            "[60]\ttrain-rmse:0.18457\tval-rmse:0.23791\n",
            "[65]\ttrain-rmse:0.18063\tval-rmse:0.23698\n",
            "[70]\ttrain-rmse:0.17741\tval-rmse:0.23622\n",
            "[75]\ttrain-rmse:0.17468\tval-rmse:0.23510\n",
            "[80]\ttrain-rmse:0.17242\tval-rmse:0.23453\n",
            "[85]\ttrain-rmse:0.17014\tval-rmse:0.23404\n",
            "[90]\ttrain-rmse:0.16797\tval-rmse:0.23332\n",
            "[95]\ttrain-rmse:0.16562\tval-rmse:0.23276\n",
            "[99]\ttrain-rmse:0.16323\tval-rmse:0.23209\n",
            "RMSE with eta=0.1: 0.23208927121609343\n"
          ]
        }
      ]
    },
    {
      "cell_type": "code",
      "source": [
        "import math\n",
        "\n",
        "if math.isclose(rmse_eta_03, rmse_eta_01):\n",
        "    print(\"Both gives equal value\")\n",
        "elif rmse_eta_03 < rmse_eta_01:\n",
        "    print(\"RMSE 0.3 is better\")\n",
        "else:\n",
        "    print(\"RMSE 0.1 is better\")"
      ],
      "metadata": {
        "colab": {
          "base_uri": "https://localhost:8080/"
        },
        "id": "yALORrEh9Fj6",
        "outputId": "acd37bca-fa6c-4da4-98ef-a7d35730822f"
      },
      "execution_count": 18,
      "outputs": [
        {
          "output_type": "stream",
          "name": "stdout",
          "text": [
            "RMSE 0.3 is better\n"
          ]
        }
      ]
    },
    {
      "cell_type": "markdown",
      "source": [
        "## Submit the results\n",
        "\n",
        "- Submit your results here: https://forms.gle/Qa2SuzG7QGZNCaoV9\n",
        "- If your answer doesn't match options exactly, select the closest one.\n",
        "- You can submit your solution multiple times. In this case, only the last submission will be used"
      ],
      "metadata": {
        "id": "vlG_uQX-5Vh4"
      }
    }
  ]
}